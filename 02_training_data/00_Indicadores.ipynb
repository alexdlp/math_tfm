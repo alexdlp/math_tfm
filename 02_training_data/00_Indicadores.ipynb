{
 "cells": [
  {
   "cell_type": "markdown",
   "metadata": {},
   "source": [
    "# Indicadores\n",
    "\n",
    "\n",
    "Obtención de indicadores a partir de las series temporales para la construcción del esapcio de observaciones.\n",
    "\n",
    "# Indicadores técnicos\n",
    "* Indicadores de momento: intentan capturar la tasa de cambio -> Relative strenght index (RSI), Stochastic Oscillator (SO)\n",
    "* Indicadores de tendencia: capturan la dirección -> Mean Average (MA), Exponential Mean Average (EMA), Moving Average Convergence/divergence (MACD)\n",
    "* Indicadores de volumen: capturan informacion acerca del volumen de transacción -> Positive indicator volume (IPVI), Indicator Negative Volume (INVI), Williams Overbought/Oversold Index, Volatility Volume Ratio (VVR), and Volume Ratio (VR)\n",
    "* Indicadores de volatilidad: capturan la variación del precio -> Average True Range (ATR), Bollinguer bands\n"
   ]
  },
  {
   "cell_type": "code",
   "execution_count": 1,
   "metadata": {},
   "outputs": [],
   "source": [
    "import sys\n",
    "import os\n",
    "import pandas as pd\n",
    "\n",
    "# Añadir el directorio raíz del proyecto al PYTHONPATH\n",
    "project_root = os.path.abspath(os.path.join(os.getcwd(), '..'))\n",
    "sys.path.append(project_root)\n",
    "\n",
    "from helpers import *"
   ]
  },
  {
   "cell_type": "code",
   "execution_count": 2,
   "metadata": {},
   "outputs": [],
   "source": [
    "# Importar datos\n",
    "#SPY\n",
    "spy_data = pd.read_parquet(r'C:\\Users\\adelapuente\\Desktop\\math_tfm\\00_api_data\\SPY_all.parquet')\n",
    "spy_dollar_imb = pd.read_parquet(r'C:\\Users\\adelapuente\\Desktop\\math_tfm\\01_imbalance_bars\\SPY_dollar_imbalance.parquet')\n",
    "spy_volume_imb = pd.read_parquet(r'C:\\Users\\adelapuente\\Desktop\\math_tfm\\01_imbalance_bars\\SPY_volume_imbalance.parquet')\n",
    "\n",
    "\n",
    "#BTC\n",
    "btc_data = pd.read_parquet(r'C:\\Users\\adelapuente\\Desktop\\math_tfm\\00_api_data\\BTC_all.parquet')\n",
    "btc_dollar_imb = pd.read_parquet(r'C:\\Users\\adelapuente\\Desktop\\math_tfm\\01_imbalance_bars\\BTC_dollar_imbalance.parquet')\n",
    "btc_volume_imb = pd.read_parquet(r'C:\\Users\\adelapuente\\Desktop\\math_tfm\\01_imbalance_bars\\BTC_volume_imbalance.parquet')\n",
    "\n",
    "\n",
    "btc_data['date'] = pd.to_datetime(btc_data['date'])\n",
    "spy_data['date'] = pd.to_datetime(spy_data['date'])"
   ]
  },
  {
   "cell_type": "code",
   "execution_count": 3,
   "metadata": {},
   "outputs": [],
   "source": [
    "spy_data.drop(['log_returns', 'volatility', 'volume'], axis=1, inplace=True)\n",
    "btc_data.drop(['log_returns', 'volatility', 'volume'], axis=1, inplace=True)\n",
    "\n",
    "spy_dollar_imb.drop(['log_returns'], axis=1, inplace=True)\n",
    "btc_dollar_imb.drop(['log_returns'], axis=1, inplace=True)\n",
    "\n",
    "spy_volume_imb.drop(['log_returns'], axis=1, inplace=True)\n",
    "btc_volume_imb.drop(['log_returns'], axis=1, inplace=True)"
   ]
  },
  {
   "cell_type": "markdown",
   "metadata": {},
   "source": [
    "### Datos originales"
   ]
  },
  {
   "cell_type": "code",
   "execution_count": 4,
   "metadata": {},
   "outputs": [],
   "source": [
    "df_btc_with_indicators = calculate_indicators(btc_data)\n",
    "df_spy_with_indicators = calculate_indicators(spy_data)"
   ]
  },
  {
   "cell_type": "code",
   "execution_count": 5,
   "metadata": {},
   "outputs": [],
   "source": [
    "btc_close = df_btc_with_indicators['close']\n",
    "spy_close = df_spy_with_indicators['close']\n",
    "df_btc_with_indicators = normalize_data(df_btc_with_indicators)\n",
    "df_spy_with_indicators = normalize_data(df_spy_with_indicators)"
   ]
  },
  {
   "cell_type": "code",
   "execution_count": 6,
   "metadata": {},
   "outputs": [],
   "source": [
    "# esto es necesario para que en la creación del entorno las considere como variables observadas. (me quedo los precios)\n",
    "# tambien necesito la columna close ( y feature_close )\n",
    "\n",
    "columns_to_rename = [col for col in df_btc_with_indicators.columns if col not in ['date']] # ['date', 'open', 'close', 'high', 'low']\n",
    "\n",
    "df_btc_with_indicators.rename(columns={col: 'feature_' + col for col in columns_to_rename}, inplace=True)\n",
    "df_btc_with_indicators = df_btc_with_indicators.join(btc_close)\n",
    "\n",
    "columns_to_rename = [col for col in df_spy_with_indicators.columns if col not in ['date']] # ['date', 'open', 'close', 'high', 'low']\n",
    "\n",
    "df_spy_with_indicators.rename(columns={col: 'feature_' + col for col in columns_to_rename}, inplace=True)\n",
    "df_spy_with_indicators = df_spy_with_indicators.join(spy_close)"
   ]
  },
  {
   "cell_type": "code",
   "execution_count": 8,
   "metadata": {},
   "outputs": [],
   "source": [
    "df_btc_with_indicators_in_sample, df_btc_with_indicators_out_of_sample = filter_by_date(df_btc_with_indicators, '2024-01-01')\n",
    "df_spy_with_indicators_in_sample, df_spy_with_indicators_out_of_sample = filter_by_date(df_spy_with_indicators, '2024-01-01')"
   ]
  },
  {
   "cell_type": "code",
   "execution_count": 9,
   "metadata": {},
   "outputs": [],
   "source": [
    "df_btc_with_indicators_in_sample.to_parquet('BTC_original_processed_in_sample.parquet')\n",
    "df_spy_with_indicators_in_sample.to_parquet('SPY_original_processed_in_sample.parquet')\n",
    "\n",
    "df_btc_with_indicators_out_of_sample.to_parquet('BTC_original_processed_out_of_sample.parquet')\n",
    "df_spy_with_indicators_out_of_sample.to_parquet('SPY_original_processed_out_of_sample.parquet')"
   ]
  },
  {
   "cell_type": "code",
   "execution_count": 7,
   "metadata": {},
   "outputs": [],
   "source": [
    "# DATOS SIN OHLC\n",
    "df_btc_with_indicators_sin_ohlc = df_btc_with_indicators.drop(['feature_open', 'feature_low', 'feature_high', 'feature_open'], axis = 1)\n",
    "df_spy_with_indicators_sin_ohlc = df_spy_with_indicators.drop(['feature_open', 'feature_low', 'feature_high', 'feature_open'], axis = 1)"
   ]
  },
  {
   "cell_type": "code",
   "execution_count": 8,
   "metadata": {},
   "outputs": [],
   "source": [
    "df_btc_with_indicators_in_sample_sin_ohlc, df_btc_with_indicators_out_of_sample_sin_ohlc = filter_by_date(df_btc_with_indicators_sin_ohlc, '2024-01-01')\n",
    "df_spy_with_indicators_in_sample_sin_ohlc, df_spy_with_indicators_out_of_sample_sin_ohlc = filter_by_date(df_spy_with_indicators_sin_ohlc, '2024-01-01')"
   ]
  },
  {
   "cell_type": "code",
   "execution_count": 9,
   "metadata": {},
   "outputs": [],
   "source": [
    "df_btc_with_indicators_in_sample_sin_ohlc.to_parquet('BTC_original_processed_in_sample_sin_ohlc.parquet')\n",
    "df_spy_with_indicators_in_sample_sin_ohlc.to_parquet('SPY_original_processed_in_sample_sin_ohlc.parquet')\n",
    "\n",
    "df_btc_with_indicators_out_of_sample_sin_ohlc.to_parquet('BTC_original_processed_out_of_sample_sin_ohlc.parquet')\n",
    "df_spy_with_indicators_out_of_sample_sin_ohlc.to_parquet('SPY_original_processed_out_of_sample_sin_ohlc.parquet')"
   ]
  },
  {
   "cell_type": "markdown",
   "metadata": {},
   "source": [
    "### Datos de Volumen"
   ]
  },
  {
   "cell_type": "code",
   "execution_count": 18,
   "metadata": {},
   "outputs": [],
   "source": [
    "df_btc_volume_with_indicators = calculate_indicators(btc_volume_imb)\n",
    "df_spy_volume_with_indicators = calculate_indicators(spy_volume_imb)"
   ]
  },
  {
   "cell_type": "code",
   "execution_count": 19,
   "metadata": {},
   "outputs": [],
   "source": [
    "btc_close_volume = df_btc_volume_with_indicators['close']\n",
    "spy_close_volume = df_spy_volume_with_indicators['close']\n",
    "df_btc_volume_with_indicators = normalize_data(df_btc_volume_with_indicators)\n",
    "df_spy_volume_with_indicators = normalize_data(df_spy_volume_with_indicators)"
   ]
  },
  {
   "cell_type": "code",
   "execution_count": 20,
   "metadata": {},
   "outputs": [],
   "source": [
    "columns_to_rename = [col for col in df_btc_volume_with_indicators.columns if col not in ['date']] # ['date', 'open', 'close', 'high', 'low']\n",
    "df_btc_volume_with_indicators.rename(columns={col: 'feature_' + col for col in columns_to_rename}, inplace=True)\n",
    "df_btc_volume_with_indicators = df_btc_volume_with_indicators.join(btc_close_volume)\n",
    "\n",
    "columns_to_rename = [col for col in df_spy_volume_with_indicators.columns if col not in ['date']] # ['date', 'open', 'close', 'high', 'low']\n",
    "df_spy_volume_with_indicators.rename(columns={col: 'feature_' + col for col in columns_to_rename}, inplace=True)\n",
    "df_spy_volume_with_indicators = df_spy_volume_with_indicators.join(spy_close_volume)"
   ]
  },
  {
   "cell_type": "code",
   "execution_count": 21,
   "metadata": {},
   "outputs": [],
   "source": [
    "df_btc_volume_with_indicators_in_sample, df_btc_volume_with_indicators_out_of_sample = filter_by_date(df_btc_volume_with_indicators, '2024-01-01')\n",
    "df_spy_volume_with_indicators_in_sample, df_spy_volume_with_indicators_out_of_sample = filter_by_date(df_spy_volume_with_indicators, '2024-01-01')"
   ]
  },
  {
   "cell_type": "code",
   "execution_count": 22,
   "metadata": {},
   "outputs": [],
   "source": [
    "df_btc_volume_with_indicators_in_sample.to_parquet('BTC_volume_processed_in_sample.parquet')\n",
    "df_spy_volume_with_indicators_in_sample.to_parquet('SPY_volume_processed_in_sample.parquet')\n",
    "\n",
    "df_btc_volume_with_indicators_out_of_sample.to_parquet('BTC_volume_processed_out_of_sample.parquet')\n",
    "df_spy_volume_with_indicators_out_of_sample.to_parquet('SPY_volume_processed_out_of_sample.parquet')"
   ]
  },
  {
   "cell_type": "code",
   "execution_count": 23,
   "metadata": {},
   "outputs": [],
   "source": [
    "df_btc_volume_with_indicators_sin_ohlc = df_btc_volume_with_indicators.drop(['feature_open', 'feature_low', 'feature_high', 'feature_open'], axis = 1)\n",
    "df_spy_volume_with_indicatorss_sin_ohlc = df_spy_volume_with_indicators.drop(['feature_open', 'feature_low', 'feature_high', 'feature_open'], axis = 1)"
   ]
  },
  {
   "cell_type": "code",
   "execution_count": 24,
   "metadata": {},
   "outputs": [],
   "source": [
    "df_btc_volume_with_indicators_in_sample_sin_ohlc, df_btc_volume_with_indicators_out_of_sample_sin_ohlc = filter_by_date(df_btc_volume_with_indicators_sin_ohlc, '2024-01-01')\n",
    "df_spy_volume_with_indicators_in_sample_sin_ohlc, df_spy_volume_with_indicators_out_of_sample_sin_ohlc = filter_by_date(df_spy_volume_with_indicatorss_sin_ohlc, '2024-01-01')"
   ]
  },
  {
   "cell_type": "code",
   "execution_count": 25,
   "metadata": {},
   "outputs": [],
   "source": [
    "df_btc_volume_with_indicators_in_sample_sin_ohlc.to_parquet('BTC_volume_processed_in_sample_sin_ohlc.parquet')\n",
    "df_spy_volume_with_indicators_in_sample_sin_ohlc.to_parquet('SPY_volume_processed_in_sample_sin_ohlc.parquet')\n",
    "\n",
    "df_btc_volume_with_indicators_out_of_sample_sin_ohlc.to_parquet('BTC_volume_processed_out_of_sample_sin_ohlc.parquet')\n",
    "df_spy_volume_with_indicators_out_of_sample_sin_ohlc.to_parquet('SPY_volume_processed_out_of_sample_sin_ohlc.parquet')"
   ]
  },
  {
   "cell_type": "markdown",
   "metadata": {},
   "source": [
    "### Datos de Dollar"
   ]
  },
  {
   "cell_type": "code",
   "execution_count": 26,
   "metadata": {},
   "outputs": [],
   "source": [
    "df_btc_dollar_with_indicators = calculate_indicators(btc_dollar_imb)\n",
    "df_spy_dollar_with_indicators = calculate_indicators(spy_dollar_imb)"
   ]
  },
  {
   "cell_type": "code",
   "execution_count": 27,
   "metadata": {},
   "outputs": [],
   "source": [
    "btc_close_dollar = df_btc_dollar_with_indicators['close']\n",
    "spy_close_dollar = df_spy_dollar_with_indicators['close']\n",
    "df_btc_dollar_with_indicators = normalize_data(df_btc_dollar_with_indicators)\n",
    "df_spy_dollar_with_indicators = normalize_data(df_spy_dollar_with_indicators)"
   ]
  },
  {
   "cell_type": "code",
   "execution_count": 28,
   "metadata": {},
   "outputs": [],
   "source": [
    "columns_to_rename = [col for col in df_btc_dollar_with_indicators.columns if col not in ['date']] # ['date', 'open', 'close', 'high', 'low']\n",
    "df_btc_dollar_with_indicators.rename(columns={col: 'feature_' + col for col in columns_to_rename}, inplace=True)\n",
    "df_btc_dollar_with_indicators = df_btc_dollar_with_indicators.join(btc_close_dollar)\n",
    "\n",
    "columns_to_rename = [col for col in df_spy_dollar_with_indicators.columns if col not in ['date']] # ['date', 'open', 'close', 'high', 'low']\n",
    "df_spy_dollar_with_indicators.rename(columns={col: 'feature_' + col for col in columns_to_rename}, inplace=True)\n",
    "df_spy_dollar_with_indicators = df_spy_dollar_with_indicators.join(spy_close_dollar)"
   ]
  },
  {
   "cell_type": "code",
   "execution_count": 29,
   "metadata": {},
   "outputs": [],
   "source": [
    "df_btc_dollar_with_indicators_in_sample, df_btc_dollar_with_indicators_out_of_sample = filter_by_date(df_btc_dollar_with_indicators, '2024-01-01')\n",
    "df_spy_dollar_with_indicators_in_sample, df_spy_dollar_with_indicators_out_of_sample = filter_by_date(df_spy_dollar_with_indicators, '2024-01-01')"
   ]
  },
  {
   "cell_type": "code",
   "execution_count": 30,
   "metadata": {},
   "outputs": [],
   "source": [
    "df_btc_dollar_with_indicators_in_sample.to_parquet('BTC_dollar_processed_in_sample.parquet')\n",
    "df_spy_dollar_with_indicators_in_sample.to_parquet('SPY_dollar_processed_in_sample.parquet')\n",
    "\n",
    "df_btc_dollar_with_indicators_out_of_sample.to_parquet('BTC_dollar_processed_out_of_sample.parquet')\n",
    "df_spy_dollar_with_indicators_out_of_sample.to_parquet('SPY_dollar_processed_out_of_sample.parquet')"
   ]
  },
  {
   "cell_type": "code",
   "execution_count": 31,
   "metadata": {},
   "outputs": [],
   "source": [
    "df_btc_dollar_with_indicators_sin_ohlc = df_btc_with_indicators.drop(['feature_open', 'feature_low', 'feature_high', 'feature_open'], axis = 1)\n",
    "df_spy_dollar_with_indicators_sin_ohlc = df_spy_with_indicators.drop(['feature_open', 'feature_low', 'feature_high', 'feature_open'], axis = 1)"
   ]
  },
  {
   "cell_type": "code",
   "execution_count": 32,
   "metadata": {},
   "outputs": [],
   "source": [
    "df_btc_dollar_with_indicators_in_sample_sin_ohlc, df_btc_dollar_with_indicators_out_of_sample_sin_ohlc = filter_by_date(df_btc_dollar_with_indicators_sin_ohlc, '2024-01-01')\n",
    "df_spy_dollar_with_indicators_in_sample_sin_ohlc, df_spy_dollar_with_indicators_out_of_sample_sin_ohlc = filter_by_date(df_spy_dollar_with_indicators_sin_ohlc, '2024-01-01')"
   ]
  },
  {
   "cell_type": "code",
   "execution_count": 33,
   "metadata": {},
   "outputs": [],
   "source": [
    "df_btc_dollar_with_indicators_in_sample_sin_ohlc.to_parquet('BTC_dollar_processed_in_sample_sin_ohlc.parquet')\n",
    "df_spy_dollar_with_indicators_in_sample_sin_ohlc.to_parquet('SPY_dollar_processed_in_sample_sin_ohlc.parquet')\n",
    "\n",
    "df_btc_dollar_with_indicators_out_of_sample_sin_ohlc.to_parquet('BTC_dollar_processed_out_of_sample_sin_ohlc.parquet')\n",
    "df_spy_dollar_with_indicators_out_of_sample_sin_ohlc.to_parquet('SPY_dollar_processed_out_of_sample_sin_ohlc.parquet')"
   ]
  },
  {
   "cell_type": "markdown",
   "metadata": {},
   "source": []
  }
 ],
 "metadata": {
  "kernelspec": {
   "display_name": "data_process",
   "language": "python",
   "name": "python3"
  },
  "language_info": {
   "codemirror_mode": {
    "name": "ipython",
    "version": 3
   },
   "file_extension": ".py",
   "mimetype": "text/x-python",
   "name": "python",
   "nbconvert_exporter": "python",
   "pygments_lexer": "ipython3",
   "version": "3.10.13"
  }
 },
 "nbformat": 4,
 "nbformat_minor": 2
}
