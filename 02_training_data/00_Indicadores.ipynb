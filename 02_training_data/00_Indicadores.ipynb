{
 "cells": [
  {
   "cell_type": "markdown",
   "metadata": {},
   "source": [
    "# Indicadores\n",
    "\n",
    "\n",
    "Obtención de indicadores a partir de las series temporales para la construcción del esapcio de observaciones.\n",
    "\n",
    "# Indicadores técnicos\n",
    "* Indicadores de momento: intentan capturar la tasa de cambio -> Relative strenght index (RSI), Stochastic Oscillator (SO)\n",
    "* Indicadores de tendencia: capturan la dirección -> Mean Average (MA), Exponential Mean Average (EMA), Moving Average Convergence/divergence (MACD)\n",
    "* Indicadores de volumen: capturan informacion acerca del volumen de transacción -> Positive indicator volume (IPVI), Indicator Negative Volume (INVI), Williams Overbought/Oversold Index, Volatility Volume Ratio (VVR), and Volume Ratio (VR)\n",
    "* Indicadores de volatilidad: capturan la variación del precio -> Average True Range (ATR), Bollinguer bands\n"
   ]
  },
  {
   "cell_type": "code",
   "execution_count": 1,
   "metadata": {},
   "outputs": [],
   "source": [
    "import sys\n",
    "import os\n",
    "import pandas as pd\n",
    "\n",
    "# Añadir el directorio raíz del proyecto al PYTHONPATH\n",
    "project_root = os.path.abspath(os.path.join(os.getcwd(), '..'))\n",
    "sys.path.append(project_root)\n",
    "\n",
    "from helpers import *"
   ]
  },
  {
   "cell_type": "code",
   "execution_count": 2,
   "metadata": {},
   "outputs": [],
   "source": [
    "# Importar datos\n",
    "#SPY\n",
    "spy_data = pd.read_parquet(r'C:\\Users\\adelapuente\\Desktop\\math_tfm\\00_api_data\\SPY_all.parquet')\n",
    "spy_dollar_imb = pd.read_parquet(r'C:\\Users\\adelapuente\\Desktop\\math_tfm\\01_imbalance_bars\\SPY_dollar_imbalance.parquet')\n",
    "spy_volume_imb = pd.read_parquet(r'C:\\Users\\adelapuente\\Desktop\\math_tfm\\01_imbalance_bars\\SPY_volume_imbalance.parquet')\n",
    "\n",
    "\n",
    "#BTC\n",
    "btc_data = pd.read_parquet(r'C:\\Users\\adelapuente\\Desktop\\math_tfm\\00_api_data\\BTC_all.parquet')\n",
    "btc_dollar_imb = pd.read_parquet(r'C:\\Users\\adelapuente\\Desktop\\math_tfm\\01_imbalance_bars\\BTC_dollar_imbalance.parquet')\n",
    "btc_volume_imb = pd.read_parquet(r'C:\\Users\\adelapuente\\Desktop\\math_tfm\\01_imbalance_bars\\BTC_volume_imbalance.parquet')\n",
    "\n",
    "\n",
    "btc_data['date'] = pd.to_datetime(btc_data['date'])\n",
    "spy_data['date'] = pd.to_datetime(spy_data['date'])"
   ]
  },
  {
   "cell_type": "code",
   "execution_count": 3,
   "metadata": {},
   "outputs": [],
   "source": [
    "spy_data.drop(['log_returns', 'volatility'], axis=1, inplace=True)\n",
    "btc_data.drop(['log_returns', 'volatility'], axis=1, inplace=True)\n",
    "\n",
    "spy_dollar_imb.drop(['log_returns'], axis=1, inplace=True)\n",
    "btc_dollar_imb.drop(['log_returns'], axis=1, inplace=True)\n",
    "\n",
    "spy_volume_imb.drop(['log_returns'], axis=1, inplace=True)\n",
    "btc_volume_imb.drop(['log_returns'], axis=1, inplace=True)"
   ]
  },
  {
   "cell_type": "markdown",
   "metadata": {},
   "source": [
    "### Datos originales"
   ]
  },
  {
   "cell_type": "code",
   "execution_count": 4,
   "metadata": {},
   "outputs": [],
   "source": [
    "df_btc_with_indicators = calculate_indicators(btc_data)\n",
    "df_spy_with_indicators = calculate_indicators(spy_data)"
   ]
  },
  {
   "cell_type": "code",
   "execution_count": 18,
   "metadata": {},
   "outputs": [],
   "source": [
    "# les quito el volumen porque los demas datos no lo tienen\n",
    "df_btc_with_indicators.drop(['volume'], axis = 1, inplace = True)\n",
    "df_spy_with_indicators.drop(['volume'], axis = 1, inplace = True)"
   ]
  },
  {
   "cell_type": "code",
   "execution_count": 6,
   "metadata": {},
   "outputs": [],
   "source": [
    "df_btc_with_indicators = normalize_data(df_btc_with_indicators)\n",
    "df_spy_with_indicators = normalize_data(df_spy_with_indicators)"
   ]
  },
  {
   "cell_type": "code",
   "execution_count": 19,
   "metadata": {},
   "outputs": [],
   "source": [
    "df_btc_with_indicators_in_sample, df_btc_with_indicators_out_of_sample = filter_by_date(df_btc_with_indicators, '2024-01-01')\n",
    "df_spy_with_indicators_in_sample, df_spy_with_indicators_out_of_sample = filter_by_date(df_spy_with_indicators, '2024-01-01')"
   ]
  },
  {
   "cell_type": "code",
   "execution_count": 8,
   "metadata": {},
   "outputs": [],
   "source": [
    "df_btc_with_indicators_in_sample.to_parquet('BTC_original_processed_in_sample.parquet')\n",
    "df_spy_with_indicators_in_sample.to_parquet('SPY_original_processed_in_sample.parquet')\n",
    "\n",
    "df_btc_with_indicators_out_of_sample.to_parquet('BTC_original_processed_out_of_sample.parquet')\n",
    "df_spy_with_indicators_out_of_sample.to_parquet('SPY_original_processed_out_of_sample.parquet')"
   ]
  },
  {
   "cell_type": "markdown",
   "metadata": {},
   "source": [
    "### Datos de Volumen"
   ]
  },
  {
   "cell_type": "code",
   "execution_count": 9,
   "metadata": {},
   "outputs": [],
   "source": [
    "df_btc_volume_with_indicators = calculate_indicators(btc_volume_imb)\n",
    "df_spy_volume_with_indicators = calculate_indicators(spy_volume_imb)"
   ]
  },
  {
   "cell_type": "code",
   "execution_count": 10,
   "metadata": {},
   "outputs": [],
   "source": [
    "df_btc_volume_with_indicators = normalize_data(df_btc_volume_with_indicators)\n",
    "df_spy_volume_with_indicators = normalize_data(df_spy_volume_with_indicators)"
   ]
  },
  {
   "cell_type": "code",
   "execution_count": 11,
   "metadata": {},
   "outputs": [],
   "source": [
    "df_btc_volume_with_indicators_in_sample, df_btc_volume_with_indicators_out_of_sample = filter_by_date(df_btc_volume_with_indicators, '2024-01-01')\n",
    "df_spy_volume_with_indicators_in_sample, df_spy_volume_with_indicators_out_of_sample = filter_by_date(df_spy_volume_with_indicators, '2024-01-01')"
   ]
  },
  {
   "cell_type": "code",
   "execution_count": 12,
   "metadata": {},
   "outputs": [],
   "source": [
    "df_btc_volume_with_indicators_in_sample.to_parquet('BTC_volume_processed_in_sample.parquet')\n",
    "df_spy_volume_with_indicators_in_sample.to_parquet('SPY_volume_processed_in_sample.parquet')\n",
    "\n",
    "df_btc_volume_with_indicators_out_of_sample.to_parquet('BTC_volume_processed_out_of_sample.parquet')\n",
    "df_spy_volume_with_indicators_out_of_sample.to_parquet('SPY_volume_processed_out_of_sample.parquet')"
   ]
  },
  {
   "cell_type": "markdown",
   "metadata": {},
   "source": [
    "### Datos de Dollar"
   ]
  },
  {
   "cell_type": "code",
   "execution_count": 13,
   "metadata": {},
   "outputs": [],
   "source": [
    "df_btc_dollar_with_indicators = calculate_indicators(btc_dollar_imb)\n",
    "df_spy_dollar_with_indicators = calculate_indicators(spy_dollar_imb)"
   ]
  },
  {
   "cell_type": "code",
   "execution_count": 14,
   "metadata": {},
   "outputs": [],
   "source": [
    "df_btc_dollar_with_indicators = normalize_data(df_btc_dollar_with_indicators)\n",
    "df_spy_dollar_with_indicators = normalize_data(df_spy_dollar_with_indicators)"
   ]
  },
  {
   "cell_type": "code",
   "execution_count": 15,
   "metadata": {},
   "outputs": [],
   "source": [
    "df_btc_dollar_with_indicators_in_sample, df_btc_dollar_with_indicators_out_of_sample = filter_by_date(df_btc_dollar_with_indicators, '2024-01-01')\n",
    "df_spy_dollar_with_indicators_in_sample, df_spy_dollar_with_indicators_out_of_sample = filter_by_date(df_spy_dollar_with_indicators, '2024-01-01')"
   ]
  },
  {
   "cell_type": "code",
   "execution_count": 16,
   "metadata": {},
   "outputs": [],
   "source": [
    "df_btc_dollar_with_indicators_in_sample.to_parquet('BTC_dollar_processed_in_sample.parquet')\n",
    "df_spy_dollar_with_indicators_in_sample.to_parquet('SPY_dollar_processed_in_sample.parquet')\n",
    "\n",
    "df_btc_dollar_with_indicators_out_of_sample.to_parquet('BTC_dollar_processed_out_of_sample.parquet')\n",
    "df_spy_dollar_with_indicators_out_of_sample.to_parquet('SPY_dollar_processed_out_of_sample.parquet')"
   ]
  },
  {
   "cell_type": "markdown",
   "metadata": {},
   "source": []
  }
 ],
 "metadata": {
  "kernelspec": {
   "display_name": "data_process",
   "language": "python",
   "name": "python3"
  },
  "language_info": {
   "codemirror_mode": {
    "name": "ipython",
    "version": 3
   },
   "file_extension": ".py",
   "mimetype": "text/x-python",
   "name": "python",
   "nbconvert_exporter": "python",
   "pygments_lexer": "ipython3",
   "version": "3.10.13"
  }
 },
 "nbformat": 4,
 "nbformat_minor": 2
}
