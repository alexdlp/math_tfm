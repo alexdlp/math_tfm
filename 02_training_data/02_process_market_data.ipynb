{
 "cells": [
  {
   "cell_type": "markdown",
   "metadata": {},
   "source": [
    "# Procesamiento de las series\n",
    "\n",
    "Obtención de indicadores a partir de las series temporales para la construcción del esapcio de observaciones.\n",
    "\n",
    "# Indicadores técnicos\n",
    "* Indicadores de momento: intentan capturar la tasa de cambio -> Relative strenght index (RSI), Stochastic Oscillator (SO)\n",
    "* Indicadores de tendencia: capturan la dirección -> Mean Average (MA), Exponential Mean Average (EMA), Moving Average Convergence/divergence (MACD)\n",
    "* Indicadores de volumen: capturan informacion acerca del volumen de transacción -> Positive indicator volume (IPVI), Indicator Negative Volume (INVI), Williams Overbought/Oversold Index, Volatility Volume Ratio (VVR), and Volume Ratio (VR)\n",
    "* Indicadores de volatilidad: capturan la variación del precio -> Average True Range (ATR), Bollinguer bands\n",
    "\n"
   ]
  },
  {
   "cell_type": "code",
   "execution_count": 2,
   "metadata": {},
   "outputs": [],
   "source": [
    "import pandas as pd\n",
    "import gymnasium as gym\n",
    "import pandas_ta as ta\n",
    "\n",
    "import sys\n",
    "import os\n",
    "\n",
    "import matplotlib.pyplot as plt\n",
    "\n",
    "# Añadir el directorio raíz del proyecto al PYTHONPATH\n",
    "project_root = os.path.abspath(os.path.join(os.getcwd(), '..'))\n",
    "sys.path.append(project_root)"
   ]
  },
  {
   "cell_type": "code",
   "execution_count": 13,
   "metadata": {},
   "outputs": [],
   "source": [
    "btc_data = pd.read_parquet(r'C:\\Users\\adelapuente\\Desktop\\math_tfm\\api_data\\BTC_all.parquet')\n",
    "spy_data = pd.read_parquet(r'C:\\Users\\adelapuente\\Desktop\\math_tfm\\api_data\\SPY_all.parquet')"
   ]
  },
  {
   "cell_type": "code",
   "execution_count": 14,
   "metadata": {},
   "outputs": [],
   "source": [
    "btc_data['date'] = pd.to_datetime(btc_data['date'])\n",
    "btc_data.set_index('date', inplace=True)\n",
    "\n",
    "spy_data['date'] = pd.to_datetime(spy_data['date'])\n",
    "spy_data.set_index('date', inplace=True)"
   ]
  },
  {
   "cell_type": "code",
   "execution_count": 17,
   "metadata": {},
   "outputs": [],
   "source": [
    "\n"
   ]
  },
  {
   "cell_type": "code",
   "execution_count": 19,
   "metadata": {},
   "outputs": [
    {
     "name": "stderr",
     "output_type": "stream",
     "text": [
      "c:\\Users\\adelapuente\\AppData\\Local\\miniconda3\\envs\\data_process\\lib\\site-packages\\sklearn\\utils\\_array_api.py:696: RuntimeWarning: All-NaN slice encountered\n",
      "  return xp.asarray(numpy.nanmin(X, axis=axis))\n",
      "c:\\Users\\adelapuente\\AppData\\Local\\miniconda3\\envs\\data_process\\lib\\site-packages\\sklearn\\utils\\_array_api.py:713: RuntimeWarning: All-NaN slice encountered\n",
      "  return xp.asarray(numpy.nanmax(X, axis=axis))\n",
      "C:\\Users\\adelapuente\\AppData\\Local\\Temp\\ipykernel_10444\\1261651611.py:68: FutureWarning: DataFrame.fillna with 'method' is deprecated and will raise in a future version. Use obj.ffill() or obj.bfill() instead.\n",
      "  data.fillna(method='ffill', inplace=True)\n",
      "c:\\Users\\adelapuente\\AppData\\Local\\miniconda3\\envs\\data_process\\lib\\site-packages\\sklearn\\utils\\_array_api.py:696: RuntimeWarning: All-NaN slice encountered\n",
      "  return xp.asarray(numpy.nanmin(X, axis=axis))\n",
      "c:\\Users\\adelapuente\\AppData\\Local\\miniconda3\\envs\\data_process\\lib\\site-packages\\sklearn\\utils\\_array_api.py:713: RuntimeWarning: All-NaN slice encountered\n",
      "  return xp.asarray(numpy.nanmax(X, axis=axis))\n",
      "C:\\Users\\adelapuente\\AppData\\Local\\Temp\\ipykernel_10444\\1261651611.py:68: FutureWarning: DataFrame.fillna with 'method' is deprecated and will raise in a future version. Use obj.ffill() or obj.bfill() instead.\n",
      "  data.fillna(method='ffill', inplace=True)\n"
     ]
    }
   ],
   "source": [
    "# Calcula los indicadores usando la función definida previamente\n",
    "df_btc_with_indicators = calculate_indicators(btc_data)\n",
    "df_spy_with_indicators = calculate_indicators(spy_data)\n",
    "\n",
    "# Guarda los DataFrames resultantes en formato Parquet\n",
    "df_btc_with_indicators.to_parquet('BTC_processed.parquet')\n",
    "df_spy_with_indicators.to_parquet('SPY_processed.parquet')"
   ]
  },
  {
   "cell_type": "code",
   "execution_count": 24,
   "metadata": {},
   "outputs": [
    {
     "data": {
      "text/plain": [
       "Index(['open', 'high', 'low', 'close', 'volume', 'log_returns', 'volatility',\n",
       "       'SMA_20', 'SMA_50', 'RSI', 'MACD', 'MACD_Signal', 'MACD_Diff', 'ATR',\n",
       "       'VWAP', 'PVI', 'NVI', 'CCI', 'OBV', 'Hurst'],\n",
       "      dtype='object')"
      ]
     },
     "execution_count": 24,
     "metadata": {},
     "output_type": "execute_result"
    }
   ],
   "source": [
    "df_spy_with_indicators.columns"
   ]
  },
  {
   "cell_type": "code",
   "execution_count": 32,
   "metadata": {},
   "outputs": [],
   "source": [
    "# Renombrar las columnas adecuadas con el prefijo \"feature_\"\n",
    "# esto es necesario porque son las que va a devolver el entorno como observaciones\n",
    "columns_to_rename = [col for col in data.columns if col not in ['date', 'open', 'close', 'high', 'low']]\n",
    "data.rename(columns={col: 'feature_' + col for col in columns_to_rename}, inplace=True)"
   ]
  },
  {
   "cell_type": "code",
   "execution_count": 33,
   "metadata": {},
   "outputs": [],
   "source": [
    "# Normalizar las columnas con el prefijo \"feature_\" usando scale\n",
    "for col in data.columns:\n",
    "    if col.startswith('feature_'):\n",
    "        data[col] = scale(data[col])"
   ]
  },
  {
   "cell_type": "code",
   "execution_count": 34,
   "metadata": {},
   "outputs": [],
   "source": [
    "data.dropna(inplace=True)"
   ]
  },
  {
   "cell_type": "code",
   "execution_count": 35,
   "metadata": {},
   "outputs": [],
   "source": [
    "# # Registro del entorno personalizado\n",
    "# gym.envs.registration.register(\n",
    "#     id='TradingEnv-v0',\n",
    "#     entry_point='my_envII.trading_env2_alex:TradingEnv',\n",
    "# )\n",
    "\n",
    "# Ahora intenta crear el entorno\n",
    "env = gym.make(\n",
    "    \"TradingEnv-v0\",\n",
    "    name=\"BTCUSD\",\n",
    "    df=data,\n",
    "    windows=5,\n",
    "    positions=[-1, 0, 1],  # -1 (=SHORT), +1 (=LONG)\n",
    "    initial_position=0,  # Posición inicial\n",
    "    trading_fees=0.01 / 100,  # 0.01% por compra/venta de acciones\n",
    "    portfolio_initial_value=10000,  # en FIAT (aquí, USD)\n",
    "    max_episode_duration=500000,\n",
    ")"
   ]
  },
  {
   "cell_type": "code",
   "execution_count": 36,
   "metadata": {},
   "outputs": [],
   "source": [
    "observation, info = env.reset()"
   ]
  },
  {
   "cell_type": "code",
   "execution_count": 37,
   "metadata": {},
   "outputs": [
    {
     "data": {
      "text/plain": [
       "array([[-0.21208736,  0.6848613 ,  0.3830476 ,  0.59981173, -0.8847313 ,\n",
       "        -0.8846012 ,  0.08004049,  0.07941429,  0.05883239,  0.6300152 ,\n",
       "        -0.83340365, -0.78880954, -0.8828222 , -0.8847313 , -0.88661015,\n",
       "        -0.45373544,  0.92838144,  0.        ,  0.        ],\n",
       "       [-0.295234  ,  0.16338143,  0.12440901,  0.31318456, -0.88469607,\n",
       "        -0.8845951 ,  0.07201475,  0.04310315,  0.06245007,  0.6300152 ,\n",
       "        -0.83344287, -0.787294  , -0.8827585 , -0.88469607, -0.88660336,\n",
       "        -0.46211106,  0.30385482,  0.        ,  0.        ],\n",
       "       [-0.10544909, -1.0533586 , -0.2936698 ,  0.07422362, -0.88470644,\n",
       "        -0.8846765 ,  0.02701852, -0.0800473 ,  0.05573194,  0.6299545 ,\n",
       "        -0.83344287, -0.78176963, -0.8827999 , -0.88470644, -0.88658285,\n",
       "        -0.45299923, -1.3763747 ,  0.        ,  0.        ],\n",
       "       [-0.10619434, -0.09370951, -0.65015507, -0.28448597, -0.88468   ,\n",
       "        -0.8846854 ,  0.01963057, -0.08284274,  0.0487792 ,  0.6299545 ,\n",
       "        -0.83335567, -0.7826292 , -0.8827314 , -0.88468   , -0.8865983 ,\n",
       "        -0.46535575, -0.17605163,  0.        ,  0.        ],\n",
       "       [-0.02076152, -0.18946064, -0.7956878 , -0.6039272 , -0.8846603 ,\n",
       "        -0.88470083,  0.01040719, -0.08975084,  0.04124667,  0.6299494 ,\n",
       "        -0.83335567, -0.78153443, -0.88267577, -0.8846603 , -0.8866143 ,\n",
       "        -0.4758951 , -0.37965223,  0.        ,  0.        ]],\n",
       "      dtype=float32)"
      ]
     },
     "execution_count": 37,
     "metadata": {},
     "output_type": "execute_result"
    }
   ],
   "source": [
    "observation"
   ]
  },
  {
   "cell_type": "code",
   "execution_count": 49,
   "metadata": {},
   "outputs": [
    {
     "data": {
      "text/plain": [
       "[<matplotlib.lines.Line2D at 0x2651ceec400>]"
      ]
     },
     "execution_count": 49,
     "metadata": {},
     "output_type": "execute_result"
    },
    {
     "data": {
      "image/png": "[encoded data removed]",
      "text/plain": [
       "<Figure size 640x480 with 1 Axes>"
      ]
     },
     "metadata": {},
     "output_type": "display_data"
    }
   ],
   "source": [
    "plt.plot(env.unwrapped._price_array)"
   ]
  },
  {
   "cell_type": "code",
   "execution_count": 58,
   "metadata": {},
   "outputs": [
    {
     "data": {
      "text/plain": [
       "['feature_volume',\n",
       " 'feature_RSI',\n",
       " 'feature_STOCH_K',\n",
       " 'feature_STOCH_D',\n",
       " 'feature_MA',\n",
       " 'feature_EMA',\n",
       " 'feature_MACD',\n",
       " 'feature_MACD_H',\n",
       " 'feature_MACD_S',\n",
       " 'feature_PVI',\n",
       " 'feature_NVI',\n",
       " 'feature_ATR',\n",
       " 'feature_BBL_20_2.0',\n",
       " 'feature_BBM_20_2.0',\n",
       " 'feature_BBU_20_2.0',\n",
       " 'feature_BBB_20_2.0',\n",
       " 'feature_BBP_20_2.0',\n",
       " 'dynamic_feature__0',\n",
       " 'dynamic_feature__1']"
      ]
     },
     "execution_count": 58,
     "metadata": {},
     "output_type": "execute_result"
    }
   ],
   "source": [
    "env.unwrapped._features_columns"
   ]
  },
  {
   "cell_type": "code",
   "execution_count": 57,
   "metadata": {},
   "outputs": [
    {
     "data": {
      "text/plain": [
       "(19, (5, 19))"
      ]
     },
     "execution_count": 57,
     "metadata": {},
     "output_type": "execute_result"
    }
   ],
   "source": [
    "len(env.unwrapped._features_columns), observation.shape"
   ]
  },
  {
   "cell_type": "code",
   "execution_count": null,
   "metadata": {},
   "outputs": [],
   "source": [
    "env.unwrapped.dynamic_feature_functions"
   ]
  },
  {
   "cell_type": "code",
   "execution_count": 42,
   "metadata": {},
   "outputs": [],
   "source": [
    "for _ in range(1000):\n",
    "    action = env.action_space.sample()  # agent policy that uses the observation and info\n",
    "    observation, reward, terminated, truncated, info = env.step(action)\n",
    "\n",
    "    if terminated or truncated:\n",
    "        observation, info = env.reset()\n",
    "\n",
    "env.close()"
   ]
  },
  {
   "cell_type": "code",
   "execution_count": 44,
   "metadata": {},
   "outputs": [
    {
     "data": {
      "text/plain": [
       "array([[-0.14876176, -0.84349227,  0.2369964 ,  0.69551516, -0.8848091 ,\n",
       "        -0.88485557,  0.11067235, -0.12090383,  0.15880032,  0.628959  ,\n",
       "        -0.83150405, -0.732026  , -0.88287246, -0.8848091 , -0.88671535,\n",
       "        -0.46182683, -1.4786527 , -1.        ,  0.        ],\n",
       "       [-0.2770369 ,  0.30251783, -0.00513105,  0.42598104, -0.8847713 ,\n",
       "        -0.88484055,  0.10418625, -0.11323247,  0.14929701,  0.628959  ,\n",
       "        -0.8313908 , -0.72378415, -0.8827826 , -0.8847713 , -0.8867295 ,\n",
       "        -0.47713688,  0.14962769, -1.        ,  0.        ],\n",
       "       [-0.18018639, -0.47514448, -0.59322846, -0.1254582 , -0.8847727 ,\n",
       "        -0.88489294,  0.06912633, -0.17982475,  0.13420473,  0.62891287,\n",
       "        -0.8313908 , -0.72212386, -0.88278836, -0.8847727 , -0.8867266 ,\n",
       "        -0.4758609 , -1.2557608 , -1.        ,  0.        ],\n",
       "       [-0.28672135,  0.37815425, -0.01444451, -0.21275401, -0.88476616,\n",
       "        -0.88486415,  0.07407118, -0.13127387,  0.12318724,  0.62891287,\n",
       "        -0.8312881 , -0.7186477 , -0.8827856 , -0.88476616, -0.8867163 ,\n",
       "        -0.47475296,  0.354797  , -1.        ,  0.        ],\n",
       "       [-0.26239675,  0.3053301 ,  0.01038659, -0.20736656, -0.8847148 ,\n",
       "        -0.88484424,  0.07438225, -0.10422757,  0.11443971,  0.6289085 ,\n",
       "        -0.8312881 , -0.7172198 , -0.8826161 , -0.8847148 , -0.88678247,\n",
       "        -0.50943327,  0.14090553,  1.        ,  0.75913465]],\n",
       "      dtype=float32)"
      ]
     },
     "execution_count": 44,
     "metadata": {},
     "output_type": "execute_result"
    }
   ],
   "source": [
    "observation"
   ]
  },
  {
   "cell_type": "code",
   "execution_count": 45,
   "metadata": {},
   "outputs": [
    {
     "data": {
      "text/plain": [
       "(-0.0001802792337394418,\n",
       " False,\n",
       " False,\n",
       " {'idx': 1217837,\n",
       "  'step': 1000,\n",
       "  'date': 1217870,\n",
       "  'position_index': 2,\n",
       "  'position': 1,\n",
       "  'real_position': 0.7591346587121381,\n",
       "  'data_close': 7564.32,\n",
       "  'data_low': 7548.5,\n",
       "  'data_open': 7551.84,\n",
       "  'data_date': Timestamp('2020-04-25 20:50:00'),\n",
       "  'data_high': 7568.0,\n",
       "  'portfolio_valuation': 9964.398164658649,\n",
       "  'portfolio_distribution_asset': 1,\n",
       "  'portfolio_distribution_cash': 2400.0781646586493,\n",
       "  'reward': -0.0001802792337394418,\n",
       "  'strategy_returns': -7.591021676014221e-05})"
      ]
     },
     "execution_count": 45,
     "metadata": {},
     "output_type": "execute_result"
    }
   ],
   "source": [
    "reward, terminated, truncated, info"
   ]
  },
  {
   "cell_type": "code",
   "execution_count": 61,
   "metadata": {},
   "outputs": [],
   "source": [
    "data.to_parquet(r'..\\data\\PROCESSED_BTC_1min_2018-01-01_to_2023-12-31.parquet')"
   ]
  },
  {
   "cell_type": "code",
   "execution_count": null,
   "metadata": {},
   "outputs": [],
   "source": []
  }
 ],
 "metadata": {
  "kernelspec": {
   "display_name": "data_process",
   "language": "python",
   "name": "python3"
  },
  "language_info": {
   "codemirror_mode": {
    "name": "ipython",
    "version": 3
   },
   "file_extension": ".py",
   "mimetype": "text/x-python",
   "name": "python",
   "nbconvert_exporter": "python",
   "pygments_lexer": "ipython3",
   "version": "3.10.13"
  }
 },
 "nbformat": 4,
 "nbformat_minor": 2
}
