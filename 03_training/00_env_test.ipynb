{
 "cells": [
  {
   "cell_type": "markdown",
   "metadata": {},
   "source": [
    "# Testeo del entorno\n",
    "Vamos a ver si esta todo en orden"
   ]
  },
  {
   "cell_type": "code",
   "execution_count": 1,
   "metadata": {},
   "outputs": [],
   "source": [
    "import sys\n",
    "import os\n",
    "import pandas as pd\n",
    "\n",
    "# Añadir el directorio raíz del proyecto al PYTHONPATH\n",
    "project_root = os.path.abspath(os.path.join(os.getcwd(), '..'))\n",
    "sys.path.append(project_root)\n",
    "\n",
    "import config\n",
    "from stock_trading_env.trading_env import TradingEnv\n",
    "import gymnasium as gym\n",
    "\n",
    "import matplotlib.pyplot as plt"
   ]
  },
  {
   "cell_type": "markdown",
   "metadata": {},
   "source": [
    "Declaración y definicion de variables del entorno"
   ]
  },
  {
   "cell_type": "code",
   "execution_count": 5,
   "metadata": {},
   "outputs": [],
   "source": [
    "# # Registro del entorno personalizado\n",
    "gym.envs.registration.register(\n",
    "    id='TradingEnv-v0',\n",
    "    entry_point='stock_trading_env.trading_env:TradingEnv',\n",
    ")\n",
    "\n",
    "\n",
    "TRAIN_DATA = pd.read_parquet(config.TRAINING_DATA)\n",
    "# Ahora intenta crear el entorno\n",
    "env = gym.make(\n",
    "    \"TradingEnv-v0\",\n",
    "    name=\"BTCUSD\",\n",
    "    df=TRAIN_DATA,\n",
    "    windows=5,\n",
    "    positions=[-1, 0, 1],  # -1 (=SHORT), +1 (=LONG)\n",
    "    initial_position=0,  # Posición inicial\n",
    "    trading_fees=0.01 / 100,  # 0.01% por compra/venta de acciones\n",
    "    portfolio_initial_value=10000,  # en FIAT (aquí, USD)\n",
    "    max_episode_duration=int(len(TRAIN_DATA)*0.8),\n",
    ")"
   ]
  },
  {
   "cell_type": "code",
   "execution_count": 6,
   "metadata": {},
   "outputs": [],
   "source": [
    "observation, info = env.reset()"
   ]
  },
  {
   "cell_type": "code",
   "execution_count": 7,
   "metadata": {},
   "outputs": [
    {
     "data": {
      "text/plain": [
       "array([[0.09973543, 0.09954441, 0.09979413, 0.09935173, 0.10064267,\n",
       "        0.10115193, 0.09940537, 0.10771748, 0.10064267, 0.10032854,\n",
       "        0.07529903, 0.31594148, 0.27947152, 0.47953606, 0.4868559 ,\n",
       "        0.65532815, 0.10664902, 0.4079599 , 0.        , 0.        ,\n",
       "        0.        ],\n",
       "       [0.09978776, 0.10051963, 0.09982034, 0.10057269, 0.10026763,\n",
       "        0.100885  , 0.09914558, 0.10751403, 0.10026763, 0.09978694,\n",
       "        0.07309129, 0.37759745, 0.34078112, 0.48334622, 0.48587957,\n",
       "        0.66420466, 0.10667996, 0.43069643, 0.        , 0.        ,\n",
       "        0.        ],\n",
       "       [0.10097104, 0.10167824, 0.10097633, 0.10200296, 0.0999971 ,\n",
       "        0.10061722, 0.09911341, 0.10751742, 0.0999971 , 0.09924499,\n",
       "        0.06947608, 0.4467563 , 0.40468687, 0.4917888 , 0.4870302 ,\n",
       "        0.67835957, 0.1067182 , 0.46200395, 0.        , 0.        ,\n",
       "        0.        ],\n",
       "       [0.10236365, 0.10244094, 0.10224007, 0.10252915, 0.09982785,\n",
       "        0.10040527, 0.09915654, 0.10749277, 0.09982785, 0.09893291,\n",
       "        0.0675735 , 0.47698593, 0.42670596, 0.5010772 , 0.49007598,\n",
       "        0.6909714 , 0.10511909, 0.48430875, 0.        , 0.        ,\n",
       "        0.        ],\n",
       "       [0.10294221, 0.10241474, 0.10173924, 0.101689  , 0.09962808,\n",
       "        0.10019497, 0.09908056, 0.10741109, 0.09962808, 0.09861756,\n",
       "        0.06603498, 0.44629002, 0.40118492, 0.5068609 , 0.49383596,\n",
       "        0.6957244 , 0.10518328, 0.4766958 , 0.        , 0.        ,\n",
       "        0.        ]], dtype=float32)"
      ]
     },
     "execution_count": 7,
     "metadata": {},
     "output_type": "execute_result"
    }
   ],
   "source": [
    "observation"
   ]
  },
  {
   "cell_type": "markdown",
   "metadata": {},
   "source": [
    "El espacio de observaciones tiene 18 variables numéricas (precio, indicadores y tal); y los últimos 3 ceros son las variables dinámicas."
   ]
  },
  {
   "cell_type": "code",
   "execution_count": 8,
   "metadata": {},
   "outputs": [
    {
     "data": {
      "text/plain": [
       "(21, (5, 21))"
      ]
     },
     "execution_count": 8,
     "metadata": {},
     "output_type": "execute_result"
    }
   ],
   "source": [
    "len(env.unwrapped._features_columns), observation.shape"
   ]
  },
  {
   "cell_type": "markdown",
   "metadata": {},
   "source": [
    "21 variables, y como la ventana es de 5, cada observación tiene 21 por 5. todo ok."
   ]
  },
  {
   "cell_type": "code",
   "execution_count": 10,
   "metadata": {},
   "outputs": [
    {
     "data": {
      "text/plain": [
       "['feature_open',\n",
       " 'feature_high',\n",
       " 'feature_low',\n",
       " 'feature_close',\n",
       " 'feature_SMA_20',\n",
       " 'feature_SMA_50',\n",
       " 'feature_EMA_14',\n",
       " 'feature_BBL_20_2.0',\n",
       " 'feature_BBM_20_2.0',\n",
       " 'feature_BBU_20_2.0',\n",
       " 'feature_BBB_20_2.0',\n",
       " 'feature_BBP_20_2.0',\n",
       " 'feature_RSI',\n",
       " 'feature_MACD',\n",
       " 'feature_MACD_Signal',\n",
       " 'feature_MACD_Diff',\n",
       " 'feature_ATR',\n",
       " 'feature_CCI',\n",
       " 'dynamic_feature__0',\n",
       " 'dynamic_feature__1',\n",
       " 'dynamic_feature__2']"
      ]
     },
     "execution_count": 10,
     "metadata": {},
     "output_type": "execute_result"
    }
   ],
   "source": [
    "env.unwrapped._features_columns"
   ]
  },
  {
   "cell_type": "code",
   "execution_count": 9,
   "metadata": {},
   "outputs": [
    {
     "data": {
      "text/plain": [
       "[<function stock_trading_env.trading_env.dynamic_feature_last_action_taken(history)>,\n",
       " <function stock_trading_env.trading_env.dynamic_feature_real_action_taken(history)>,\n",
       " <function stock_trading_env.trading_env.dynamic_feature_asset_quantity(history)>]"
      ]
     },
     "execution_count": 9,
     "metadata": {},
     "output_type": "execute_result"
    }
   ],
   "source": [
    "env.unwrapped.dynamic_feature_functions"
   ]
  },
  {
   "cell_type": "markdown",
   "metadata": {},
   "source": [
    "Las variables numéricas y dinámicas son las que hemos definido."
   ]
  },
  {
   "cell_type": "markdown",
   "metadata": {},
   "source": [
    "El array de precios:"
   ]
  },
  {
   "cell_type": "code",
   "execution_count": 9,
   "metadata": {},
   "outputs": [
    {
     "data": {
      "text/plain": [
       "[<matplotlib.lines.Line2D at 0x176a1c027d0>]"
      ]
     },
     "execution_count": 9,
     "metadata": {},
     "output_type": "execute_result"
    },
    {
     "data": {
      "image/png": "[encoded data removed]",
      "text/plain": [
       "<Figure size 640x480 with 1 Axes>"
      ]
     },
     "metadata": {},
     "output_type": "display_data"
    }
   ],
   "source": [
    "plt.plot(env.unwrapped._price_array)"
   ]
  },
  {
   "cell_type": "markdown",
   "metadata": {},
   "source": [
    "Mini ciclo:"
   ]
  },
  {
   "cell_type": "code",
   "execution_count": 24,
   "metadata": {},
   "outputs": [
    {
     "name": "stdout",
     "output_type": "stream",
     "text": [
      "BUYING --> \tprice:266.149 | \tcost: 266.17561489999997 | port: 9999.9733851 | port-1: 10000.0 | asset : 1\n",
      "SELLING --> \tprice:266.598 | \tprofit: 266.5713402 | port: 10000.3957253 | port-1: 10000.3303851 | asset : 0\n",
      "BUYING --> \tprice:266.726 | \tcost: 266.7526726 | port: 10000.369052700002 | port-1: 10000.3957253 | asset : 1\n",
      "SELLING --> \tprice:266.442 | \tprofit: 266.4153558 | port: 10000.058408500001 | port-1: 10000.433052700002 | asset : 0\n",
      "BUYING --> \tprice:266.25 | \tcost: 266.276625 | port: 10000.0317835 | port-1: 10000.058408500001 | asset : 1\n",
      "SELLING --> \tprice:265.838 | \tprofit: 265.81141620000005 | port: 9999.5931997 | port-1: 9999.7017835 | asset : 0\n",
      "BUYING --> \tprice:265.288 | \tcost: 265.3145288 | port: 9999.566670900002 | port-1: 9999.5931997 | asset : 1\n",
      "SELLING --> \tprice:265.385 | \tprofit: 265.3584615 | port: 9999.637132400001 | port-1: 9999.466670900001 | asset : 0\n",
      "BUYING --> \tprice:265.261 | \tcost: 265.28752610000004 | port: 9999.6106063 | port-1: 9999.637132400001 | asset : 1\n",
      "SELLING --> \tprice:266.396 | \tprofit: 266.3693604 | port: 10000.7189667 | port-1: 9999.4186063 | asset : 0\n",
      "BUYING --> \tprice:266.524 | \tcost: 266.5506524 | port: 10000.6923143 | port-1: 10000.7189667 | asset : 1\n",
      "SELLING --> \tprice:265.993 | \tprofit: 265.9664007 | port: 10000.134715 | port-1: 10000.2803143 | asset : 0\n",
      "BUYING --> \tprice:266.131 | \tcost: 266.1576131 | port: 10000.1081019 | port-1: 10000.134715 | asset : 1\n",
      "SELLING --> \tprice:266.048 | \tprofit: 266.02139520000003 | port: 9999.9984971 | port-1: 10000.1081019 | asset : 0\n",
      "BUYING --> \tprice:266.222 | \tcost: 266.2486222 | port: 9999.971874899999 | port-1: 9999.9984971 | asset : 1\n",
      "SELLING --> \tprice:266.103 | \tprofit: 266.0763897 | port: 9999.826264599998 | port-1: 10000.080874899999 | asset : 0\n",
      "BUYING --> \tprice:265.975 | \tcost: 266.0015975 | port: 9999.799667099998 | port-1: 9999.826264599998 | asset : 1\n",
      "SELLING --> \tprice:266.131 | \tprofit: 266.10438689999995 | port: 9999.929053999998 | port-1: 9999.900667099999 | asset : 0\n",
      "BUYING --> \tprice:265.984 | \tcost: 266.0105984 | port: 9999.902455599999 | port-1: 9999.929053999998 | asset : 1\n",
      "SELLING --> \tprice:266.062 | \tprofit: 266.0353938 | port: 9999.953849399999 | port-1: 9999.774455599998 | asset : 0\n",
      "BUYING --> \tprice:267.477 | \tcost: 267.50374769999996 | port: 9999.9271017 | port-1: 9999.953849399999 | asset : 1\n",
      "SELLING --> \tprice:268.026 | \tprofit: 267.9991974 | port: 10000.449299099999 | port-1: 10000.3201017 | asset : 0\n",
      "BUYING --> \tprice:267.522 | \tcost: 267.54875219999997 | port: 10000.4225469 | port-1: 10000.449299099999 | asset : 1\n",
      "SELLING --> \tprice:266.653 | \tprofit: 266.62633470000003 | port: 9999.526881599999 | port-1: 9999.6445469 | asset : 0\n",
      "BUYING --> \tprice:267.037 | \tcost: 267.06370369999996 | port: 9999.5001779 | port-1: 9999.526881599999 | asset : 1\n",
      "SELLING --> \tprice:266.909 | \tprofit: 266.8823091 | port: 9999.345486999999 | port-1: 9999.5001779 | asset : 0\n"
     ]
    }
   ],
   "source": [
    "observation, info = env.reset()\n",
    "for _ in range(100):\n",
    "    action = env.action_space.sample()  # agent policy that uses the observation and info\n",
    "    observation, reward, terminated, truncated, info = env.step(action)\n",
    "\n",
    "    if terminated or truncated:\n",
    "        observation, info = env.reset()\n",
    "\n",
    "env.close()"
   ]
  },
  {
   "cell_type": "code",
   "execution_count": 27,
   "metadata": {},
   "outputs": [
    {
     "data": {
      "text/plain": [
       "(0.0,\n",
       " False,\n",
       " False,\n",
       " {'idx': 5973,\n",
       "  'step': 100,\n",
       "  'date': 6101,\n",
       "  'agent_action': 0,\n",
       "  'real_action_taken': 0,\n",
       "  'portfolio_asset_quantity': 0,\n",
       "  'data_close': 267.65,\n",
       "  'data_date': Timestamp('2018-10-02 12:02:00'),\n",
       "  'portfolio_valuation': 9999.345486999999,\n",
       "  'portfolio_distribution_asset': 0,\n",
       "  'portfolio_distribution_cash': 9999.345486999999,\n",
       "  'reward': 0.0,\n",
       "  'strategy_returns': 0.0})"
      ]
     },
     "execution_count": 27,
     "metadata": {},
     "output_type": "execute_result"
    }
   ],
   "source": [
    "reward, terminated, truncated, info"
   ]
  },
  {
   "cell_type": "markdown",
   "metadata": {},
   "source": [
    "Todo en orden."
   ]
  }
 ],
 "metadata": {
  "kernelspec": {
   "display_name": "data_process",
   "language": "python",
   "name": "python3"
  },
  "language_info": {
   "codemirror_mode": {
    "name": "ipython",
    "version": 3
   },
   "file_extension": ".py",
   "mimetype": "text/x-python",
   "name": "python",
   "nbconvert_exporter": "python",
   "pygments_lexer": "ipython3",
   "version": "3.10.13"
  }
 },
 "nbformat": 4,
 "nbformat_minor": 2
}
