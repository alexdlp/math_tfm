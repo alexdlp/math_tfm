{
 "cells": [
  {
   "cell_type": "code",
   "execution_count": null,
   "metadata": {},
   "outputs": [],
   "source": [
    "import numpy as np\n",
    "def sharpe_reward(history, risk_free_rate :float = 0.0):\n",
    "\n",
    "    excess_returns = np.array(history['strategy_returns']) - risk_free_rate\n",
    "    mean_excess_return = np.mean(excess_returns)\n",
    "    std_excess_return = np.std(excess_returns)\n",
    "\n",
    "    if std_excess_return == 0:\n",
    "        return 0.0\n",
    "    else:\n",
    "        return mean_excess_return / std_excess_return\n"
   ]
  },
  {
   "cell_type": "code",
   "execution_count": 1,
   "metadata": {},
   "outputs": [
    {
     "name": "stdout",
     "output_type": "stream",
     "text": [
      "Retornos simples: [0.05, -0.02857142857142857, 0.058823529411764705]\n",
      "Retornos logarítmicos: [0.04879016416943204, -0.028987536873252298, 0.05715841383994862]\n"
     ]
    }
   ],
   "source": [
    "import numpy as np\n",
    "\n",
    "# Supongamos que tienes una lista de precios\n",
    "precios = [100, 105, 102, 108]\n",
    "\n",
    "# Calcular retornos simples\n",
    "retornos_simples = [(precios[i] - precios[i-1]) / precios[i-1] for i in range(1, len(precios))]\n",
    "\n",
    "# Calcular retornos logarítmicos\n",
    "retornos_logaritmicos = [np.log(precios[i] / precios[i-1]) for i in range(1, len(precios))]\n",
    "\n",
    "print(\"Retornos simples:\", retornos_simples)\n",
    "print(\"Retornos logarítmicos:\", retornos_logaritmicos)\n"
   ]
  }
 ],
 "metadata": {
  "kernelspec": {
   "display_name": "data_process",
   "language": "python",
   "name": "python3"
  },
  "language_info": {
   "codemirror_mode": {
    "name": "ipython",
    "version": 3
   },
   "file_extension": ".py",
   "mimetype": "text/x-python",
   "name": "python",
   "nbconvert_exporter": "python",
   "pygments_lexer": "ipython3",
   "version": "3.10.13"
  }
 },
 "nbformat": 4,
 "nbformat_minor": 2
}
